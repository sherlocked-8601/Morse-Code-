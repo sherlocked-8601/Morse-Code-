{
 "cells": [
  {
   "cell_type": "code",
   "execution_count": 11,
   "id": "7fe680a9",
   "metadata": {},
   "outputs": [
    {
     "name": "stdout",
     "output_type": "stream",
     "text": [
      "Do you want to Encode or Decode the Morse Code?\n",
      "    Enter 1 to perform Encoding\n",
      "    Enter 2 to perform Decoding\n",
      "Enter your Choice: 1\n",
      "Enter your message to be converted to Morse Code: Hello World\n",
      ".... . .-.. .-.. ---  .-- --- .-. .-.. -.. \n"
     ]
    }
   ],
   "source": [
    "MORSE_CODE_DICT = { 'A':'.-', 'B':'-...',\n",
    "   'C':'-.-.', 'D':'-..', 'E':'.',\n",
    "   'F':'..-.', 'G':'--.', 'H':'....',\n",
    "   'I':'..', 'J':'.---', 'K':'-.-',\n",
    "   'L':'.-..', 'M':'--', 'N':'-.',\n",
    "   'O':'---', 'P':'.--.', 'Q':'--.-',\n",
    "   'R':'.-.', 'S':'...', 'T':'-',\n",
    "   'U':'..-', 'V':'...-', 'W':'.--',\n",
    "   'X':'-..-', 'Y':'-.--', 'Z':'--..',\n",
    "   '1':'.----', '2':'..---', '3':'...--',\n",
    "   '4':'....-', '5':'.....', '6':'-....',\n",
    "   '7':'--...', '8':'---..', '9':'----.',\n",
    "   '0':'-----', ', ':'--..--', '.':'.-.-.-',\n",
    "   '?':'..--..', '/':'-..-.', '-':'-....-',\n",
    "   '(':'-.--.', ')':'-.--.-'\n",
    "}\n",
    "def encryption(message):\n",
    "    my_cipher = ''\n",
    "    for myletter in message:\n",
    "        if myletter != ' ':\n",
    "            my_cipher += MORSE_CODE_DICT[myletter] + ' '\n",
    "        else:\n",
    "            my_cipher += ' '\n",
    "    return my_cipher\n",
    "\n",
    "def decryption(message):\n",
    "    message += ' '\n",
    "    decipher = ''\n",
    "    mycitext = ''\n",
    "    for myletter in message:\n",
    "        if (myletter != ' '):\n",
    "            i = 0\n",
    "            mycitext += myletter\n",
    "        else:\n",
    "            i += 1\n",
    "            if i == 2 :\n",
    "                decipher += ' '\n",
    "            else:\n",
    "                decipher += list(MORSE_CODE_DICT.keys())[list(MORSE_CODE_DICT.values()).index(mycitext)]\n",
    "                mycitext = ''\n",
    "    return decipher\n",
    "def main():\n",
    "    print(\"\"\"Do you want to Encode or Decode the Morse Code?\n",
    "    Enter 1 to perform Encoding\n",
    "    Enter 2 to perform Decoding\"\"\")\n",
    "    choice = int(input(\"Enter your Choice: \"))\n",
    "    if(choice == 1):\n",
    "        my_message = input(\"Enter your message to be converted to Morse Code: \")\n",
    "        output = encryption(my_message.upper())\n",
    "        print (output)\n",
    "    elif(choice == 2):\n",
    "        my_message = input(\"Enter the Morse Value: \")\n",
    "    #\".--. -.-- - .... --- -.  -....- .--. .-. --- --. .-. .- -- \"\n",
    "        output = decryption(my_message)\n",
    "        print (output)\n",
    "    else:\n",
    "        print(\"Invalid Value. Please Enter 1 or 2 ONLY\")\n",
    "# Executes the main function\n",
    "if __name__ == '__main__':\n",
    "    main()"
   ]
  },
  {
   "cell_type": "code",
   "execution_count": null,
   "id": "bc3b630d",
   "metadata": {},
   "outputs": [],
   "source": []
  }
 ],
 "metadata": {
  "kernelspec": {
   "display_name": "Python 3 (ipykernel)",
   "language": "python",
   "name": "python3"
  },
  "language_info": {
   "codemirror_mode": {
    "name": "ipython",
    "version": 3
   },
   "file_extension": ".py",
   "mimetype": "text/x-python",
   "name": "python",
   "nbconvert_exporter": "python",
   "pygments_lexer": "ipython3",
   "version": "3.9.7"
  }
 },
 "nbformat": 4,
 "nbformat_minor": 5
}
